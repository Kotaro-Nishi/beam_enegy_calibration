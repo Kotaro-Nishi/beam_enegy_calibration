{
 "cells": [
  {
   "cell_type": "code",
   "execution_count": null,
   "metadata": {},
   "outputs": [],
   "source": []
  },
  {
   "cell_type": "code",
   "execution_count": 5,
   "metadata": {},
   "outputs": [
    {
     "data": {
      "application/vnd.jupyter.widget-view+json": {
       "model_id": "2435b69ab55141868b907da4adb5c29f",
       "version_major": 2,
       "version_minor": 0
      },
      "text/plain": [
       "interactive(children=(FloatSlider(value=20.0, description='alpha: ', layout=Layout(width='400px'), max=30.0, m…"
      ]
     },
     "execution_count": 5,
     "metadata": {},
     "output_type": "execute_result"
    }
   ],
   "source": [
    "import cv2\n",
    "from IPython.display import Image, display\n",
    "import numpy as np\n",
    "from ipywidgets import widgets\n",
    "\n",
    "\n",
    "def imshow(img):\n",
    "    \"\"\"画像を Notebook 上に表示する。\n",
    "    \"\"\"\n",
    "    encoded = cv2.imencode(\".png\", img)[1]\n",
    "    display(Image(encoded, width=400))\n",
    "\n",
    "\n",
    "def adjust(img, alpha=1.0, beta=0.0):\n",
    "    # 積和演算を行う。\n",
    "    dst = alpha * img + beta\n",
    "    # [0, 255] でクリップし、uint8 型にする。\n",
    "    return np.clip(dst, 0, 255).astype(np.uint8)\n",
    "\n",
    "def process(img, alpha, beta):\n",
    "    \"\"\"明るさ、コントラストを調整し、結果を表示する。\n",
    "    \"\"\"\n",
    "    dst = adjust(img, alpha, beta)\n",
    "    imshow(dst)\n",
    "\n",
    "\n",
    "param_widgets = {}\n",
    "\n",
    "# パラメータ「ゲイン」を設定するスライダー\n",
    "param_widgets[\"alpha\"] = widgets.FloatSlider(\n",
    "    min=20.0, max=30.0, step=0.1, value=1.0, description=\"alpha: \"\n",
    ")\n",
    "\n",
    "# パラメータ「バイアス」を設定するスライダー\n",
    "param_widgets[\"beta\"] = widgets.FloatSlider(\n",
    "    min=99.0, max=100.0, step=10.0, value=0.0, description=\"beta: \"\n",
    ")\n",
    "\n",
    "for x in param_widgets.values():\n",
    "    x.layout.width = \"400px\"\n",
    "\n",
    "# 画像を読み込む。\n",
    "img = cv2.imread(\"File11.tif\")\n",
    "\n",
    "# ウィジェットを表示する。\n",
    "widgets.interactive(process, img=widgets.fixed(img), **param_widgets)"
   ]
  }
 ],
 "metadata": {
  "kernelspec": {
   "display_name": "Python 3",
   "language": "python",
   "name": "python3"
  },
  "language_info": {
   "codemirror_mode": {
    "name": "ipython",
    "version": 3
   },
   "file_extension": ".py",
   "mimetype": "text/x-python",
   "name": "python",
   "nbconvert_exporter": "python",
   "pygments_lexer": "ipython3",
   "version": "3.11.1"
  },
  "orig_nbformat": 4,
  "vscode": {
   "interpreter": {
    "hash": "0590867fac1be7e2e339355402450b0f76b5cbbe98d9f87b846994b2dcf2eadd"
   }
  }
 },
 "nbformat": 4,
 "nbformat_minor": 2
}
